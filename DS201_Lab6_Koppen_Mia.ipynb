{
 "cells": [
  {
   "cell_type": "code",
   "execution_count": 132,
   "metadata": {},
   "outputs": [],
   "source": [
    "import pandas as pd\n",
    "import os\n",
    "import numpy as np\n",
    "import matplotlib.pyplot as plt\n",
    "import seaborn as sns"
   ]
  },
  {
   "cell_type": "code",
   "execution_count": null,
   "metadata": {},
   "outputs": [],
   "source": [
    "alcohol_consumption = pd.read_csv('drinks.csv') #reading the date file.\n",
    "alcohol_consumption.head() #shows the table of data with rows and columns.\n",
    "\n"
   ]
  },
  {
   "cell_type": "code",
   "execution_count": null,
   "metadata": {},
   "outputs": [],
   "source": [
    "print(alcohol_consumption.dtypes) #shows the data types of the rows and columns.\n",
    "print(alcohol_consumption.shape) #shows the number of rows and columns."
   ]
  },
  {
   "cell_type": "code",
   "execution_count": null,
   "metadata": {},
   "outputs": [],
   "source": [
    "print(alcohol_consumption.duplicated().sum()) #sums the duplicates.\n",
    "print(alcohol_consumption['wine_servings'].max()) #finds the max wine servings.\n",
    "print(alcohol_consumption['spirit_servings'].mean()) #finds the average/mean of the spirit servings.\n",
    "print(alcohol_consumption['total_litres_of_pure_alcohol'].min()) #finds the min amount of total liters of acohol consumed.\n"
   ]
  },
  {
   "cell_type": "code",
   "execution_count": null,
   "metadata": {},
   "outputs": [],
   "source": [
    "alcohol_consumption.loc[(alcohol_consumption['continent']==\"Europe\") &\n",
    "                        (alcohol_consumption['beer_servings']>50),\n",
    "                        \"country\"]\n",
    "#locates countries in Europe with beer servings greater than 50."
   ]
  },
  {
   "cell_type": "code",
   "execution_count": null,
   "metadata": {},
   "outputs": [],
   "source": [
    "alcohol_consumption.loc[(alcohol_consumption['continent']==\"Africa\") &\n",
    "                        (alcohol_consumption['wine_servings']>20),\n",
    "                        \"wine_servings\"]\n",
    "#locates countries in Africa with wine servings greater than 20, and shows the wine servings."
   ]
  },
  {
   "cell_type": "code",
   "execution_count": null,
   "metadata": {},
   "outputs": [],
   "source": [
    "alcohol_consumption.loc[(alcohol_consumption['continent']==\"Africa\") &\n",
    "                        (alcohol_consumption['wine_servings']>20),\n",
    "                        [\"country\", \"wine_servings\"]]\n",
    "#shows the countries along with their wine servings."
   ]
  },
  {
   "cell_type": "code",
   "execution_count": null,
   "metadata": {},
   "outputs": [],
   "source": [
    "alcohol_consumption.loc[(alcohol_consumption['continent']==\"Asia\") &\n",
    "                        (alcohol_consumption['total_litres_of_pure_alcohol']>=0) &\n",
    "                        (alcohol_consumption['total_litres_of_pure_alcohol']<=100),\n",
    "                        [\"country\", \"spirit_servings\"]]\n",
    "#shows the spirit servings of countries in Asia that have an total_litres_of_pure_alcohol between 0-100."
   ]
  },
  {
   "cell_type": "code",
   "execution_count": null,
   "metadata": {},
   "outputs": [],
   "source": [
    "country_by_continent = alcohol_consumption.groupby(['continent']).size()\n",
    "country_by_continent.plot.bar()\n",
    "#groups #of countries by continent."
   ]
  },
  {
   "cell_type": "code",
   "execution_count": null,
   "metadata": {},
   "outputs": [],
   "source": [
    "beer_by_continent = alcohol_consumption.groupby('continent')['beer_servings'].mean()\n",
    "beer_by_continent.plot.bar(figsize=(8,4))\n",
    "#groups #of beer servings by continent.\n"
   ]
  },
  {
   "cell_type": "code",
   "execution_count": null,
   "metadata": {},
   "outputs": [],
   "source": [
    "alcohol_consumption.boxplot(column='beer_servings', by='continent', figsize=(8,6))\n",
    "plt.title('Total Beer Servings by Continent')\n",
    "plt.show()\n",
    "#created a boxplot grouping beer servings by continent."
   ]
  },
  {
   "cell_type": "code",
   "execution_count": null,
   "metadata": {},
   "outputs": [],
   "source": [
    "#lowest alcohol consumption, countries\n",
    "total_consumption = alcohol_consumption.loc[(alcohol_consumption['total_litres_of_pure_alcohol']== alcohol_consumption['total_litres_of_pure_alcohol'].min())]\n",
    "print(total_consumption)"
   ]
  },
  {
   "cell_type": "code",
   "execution_count": null,
   "metadata": {},
   "outputs": [],
   "source": [
    "total_wine_consumption = alcohol_consumption.loc[(alcohol_consumption['wine_servings']== alcohol_consumption['wine_servings'].max())]\n",
    "print(total_wine_consumption)"
   ]
  }
 ],
 "metadata": {
  "kernelspec": {
   "display_name": "base",
   "language": "python",
   "name": "python3"
  },
  "language_info": {
   "codemirror_mode": {
    "name": "ipython",
    "version": 3
   },
   "file_extension": ".py",
   "mimetype": "text/x-python",
   "name": "python",
   "nbconvert_exporter": "python",
   "pygments_lexer": "ipython3",
   "version": "3.11.7"
  }
 },
 "nbformat": 4,
 "nbformat_minor": 2
}
